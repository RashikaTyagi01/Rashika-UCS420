{
  "nbformat": 4,
  "nbformat_minor": 0,
  "metadata": {
    "colab": {
      "provenance": [],
      "authorship_tag": "ABX9TyNBt7YH7UWWrBlrSKUCP1VC",
      "include_colab_link": true
    },
    "kernelspec": {
      "name": "python3",
      "display_name": "Python 3"
    },
    "language_info": {
      "name": "python"
    }
  },
  "cells": [
    {
      "cell_type": "markdown",
      "metadata": {
        "id": "view-in-github",
        "colab_type": "text"
      },
      "source": [
        "<a href=\"https://colab.research.google.com/github/RashikaTyagi01/Rashika-UCS420/blob/main/assignment1(part2).ipynb\" target=\"_parent\"><img src=\"https://colab.research.google.com/assets/colab-badge.svg\" alt=\"Open In Colab\"/></a>"
      ]
    },
    {
      "cell_type": "markdown",
      "source": [
        "Assingment 2.1: WAP to add three numbers and print the result.\n",
        "\n"
      ],
      "metadata": {
        "id": "-bIw4N-ZENkw"
      }
    },
    {
      "cell_type": "code",
      "execution_count": null,
      "metadata": {
        "colab": {
          "base_uri": "https://localhost:8080/"
        },
        "id": "HtxMK_1h8oFi",
        "outputId": "7de3146e-63e4-4ee4-f2df-3293e6dd395e"
      },
      "outputs": [
        {
          "output_type": "stream",
          "name": "stdout",
          "text": [
            "12\n"
          ]
        }
      ],
      "source": [
        "a=2\n",
        "b=3\n",
        "c=7\n",
        "result=a+b+c\n",
        "print(result)"
      ]
    },
    {
      "cell_type": "markdown",
      "source": [
        "Assingment 2.2: WAP to concatinate three strings and print the result."
      ],
      "metadata": {
        "id": "c_R-QMSjEU_3"
      }
    },
    {
      "cell_type": "code",
      "source": [
        "s1='cognitive'\n",
        "s2='computing'\n",
        "s3='lab'\n",
        "print(s1 + s2 + s3)"
      ],
      "metadata": {
        "colab": {
          "base_uri": "https://localhost:8080/"
        },
        "id": "nyeeoVay9Dkk",
        "outputId": "991b9529-9539-483a-b273-912126e0763b"
      },
      "execution_count": null,
      "outputs": [
        {
          "output_type": "stream",
          "name": "stdout",
          "text": [
            "cognitivecomputinglab\n"
          ]
        }
      ]
    }
  ]
}