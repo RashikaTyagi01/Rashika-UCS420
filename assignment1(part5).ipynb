{
  "nbformat": 4,
  "nbformat_minor": 0,
  "metadata": {
    "colab": {
      "provenance": [],
      "authorship_tag": "ABX9TyOXcI60/5k5eggU+yicgaCZ",
      "include_colab_link": true
    },
    "kernelspec": {
      "name": "python3",
      "display_name": "Python 3"
    },
    "language_info": {
      "name": "python"
    }
  },
  "cells": [
    {
      "cell_type": "markdown",
      "metadata": {
        "id": "view-in-github",
        "colab_type": "text"
      },
      "source": [
        "<a href=\"https://colab.research.google.com/github/RashikaTyagi01/Rashika-UCS420/blob/main/assignment1(part5).ipynb\" target=\"_parent\"><img src=\"https://colab.research.google.com/assets/colab-badge.svg\" alt=\"Open In Colab\"/></a>"
      ]
    },
    {
      "cell_type": "markdown",
      "source": [
        "Assingment 5.1: WAP to find max among three numbers and input from user."
      ],
      "metadata": {
        "id": "-AXtIKtcGDS0"
      }
    },
    {
      "cell_type": "code",
      "execution_count": null,
      "metadata": {
        "colab": {
          "base_uri": "https://localhost:8080/"
        },
        "id": "UgThdYs_GBKp",
        "outputId": "cbfe7dd8-1d1b-46dd-f4cc-5e6efe7b68a6"
      },
      "outputs": [
        {
          "output_type": "stream",
          "name": "stdout",
          "text": [
            "enter first number: 3\n",
            "enter second number: 5\n",
            "enter third number: 1\n",
            "max is  5\n"
          ]
        }
      ],
      "source": [
        "a=int(input(\"enter first number: \"))\n",
        "b=int(input(\"enter second number: \"))\n",
        "c=int(input(\"enter third number: \"))\n",
        "print(\"max is \",max(a,b,c))\n"
      ]
    },
    {
      "cell_type": "markdown",
      "source": [
        "Assingment 5.2: WAP to add all numbers divisible by 7 and 9 from 1 to n and n is given by the user."
      ],
      "metadata": {
        "id": "ttwNML1NGmQ8"
      }
    },
    {
      "cell_type": "code",
      "source": [
        "n=int(input(\"enter a number\"))\n",
        "sum=0\n",
        "for i in range(1,n+1):\n",
        "  if(i%7==0 and i%9==0):\n",
        "    sum=sum+i\n",
        "print(sum)"
      ],
      "metadata": {
        "colab": {
          "base_uri": "https://localhost:8080/"
        },
        "id": "Gm1ZhER1GpZ6",
        "outputId": "e42f9d87-91e1-4844-b1d4-9e24e32a3b26"
      },
      "execution_count": null,
      "outputs": [
        {
          "output_type": "stream",
          "name": "stdout",
          "text": [
            "enter a number63\n",
            "63\n"
          ]
        }
      ]
    },
    {
      "cell_type": "markdown",
      "source": [
        "Assingment 5.3: WAP to add all prime numbers from 1 to n and n is given by the user."
      ],
      "metadata": {
        "id": "2ARsxeM7I-Xe"
      }
    },
    {
      "cell_type": "code",
      "source": [
        "n=int(input(\"enter a number: \"))\n",
        "flag=0\n",
        "sum=0\n",
        "for i in range(2, n+1):\n",
        "  flag=1\n",
        "  for k in range(2,i):\n",
        "    if i%k==0:\n",
        "      flag=0\n",
        "  if flag==1:\n",
        "    sum+=i\n",
        "print(\"sum of prime numbers: \",sum)"
      ],
      "metadata": {
        "id": "1sk6reRzJBZL",
        "colab": {
          "base_uri": "https://localhost:8080/"
        },
        "outputId": "4b19b083-565f-4c25-88d6-7ca09399e5cb"
      },
      "execution_count": 4,
      "outputs": [
        {
          "output_type": "stream",
          "name": "stdout",
          "text": [
            "enter a number: 6\n",
            "sum of prime numbers:  10\n"
          ]
        }
      ]
    }
  ]
}