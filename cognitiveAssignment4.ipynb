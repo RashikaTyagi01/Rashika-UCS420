{
  "nbformat": 4,
  "nbformat_minor": 0,
  "metadata": {
    "colab": {
      "provenance": [],
      "authorship_tag": "ABX9TyPLDm5uBFxCqyew8mqBBGu4",
      "include_colab_link": true
    },
    "kernelspec": {
      "name": "python3",
      "display_name": "Python 3"
    },
    "language_info": {
      "name": "python"
    }
  },
  "cells": [
    {
      "cell_type": "markdown",
      "metadata": {
        "id": "view-in-github",
        "colab_type": "text"
      },
      "source": [
        "<a href=\"https://colab.research.google.com/github/RashikaTyagi01/Rashika-UCS420/blob/main/cognitiveAssignment4.ipynb\" target=\"_parent\"><img src=\"https://colab.research.google.com/assets/colab-badge.svg\" alt=\"Open In Colab\"/></a>"
      ]
    },
    {
      "cell_type": "markdown",
      "source": [
        "**Q.1** Write a program to create a NumPy 1D-array with 5 elements and perform basic\n",
        "operations like:\n",
        "a) Addition of 2 in all the element\n",
        "b) Multiply 3 with all the elements\n",
        "c) Divide every element by 2"
      ],
      "metadata": {
        "id": "4dBsUeK-JB4Y"
      }
    },
    {
      "cell_type": "code",
      "execution_count": null,
      "metadata": {
        "colab": {
          "base_uri": "https://localhost:8080/"
        },
        "id": "TFj5u5h7Up-G",
        "outputId": "ce7aea1c-9dfc-4acb-ea6b-68df0da110f6"
      },
      "outputs": [
        {
          "output_type": "stream",
          "name": "stdout",
          "text": [
            "[ 3  4  6  8 10]\n",
            "[ 9 12 18 24 30]\n",
            "[ 4  6  9 12 15]\n"
          ]
        }
      ],
      "source": [
        "import numpy as np\n",
        "a = np.array([1,2,4,6,8])\n",
        "\n",
        "for i in range(0,5):\n",
        "  a[i]+=2\n",
        "print(a)\n",
        "\n",
        "for i in range(0,5):\n",
        "  a[i]*=3\n",
        "print(a)\n",
        "\n",
        "for i in range(0,5):\n",
        "  a[i]/=2\n",
        "print(a)"
      ]
    },
    {
      "cell_type": "markdown",
      "source": [
        "**Q.2** Questions on Basic NumPy Array:\n",
        "a) Reverse the NumPy array: arr = np.array([1, 2, 3, 6, 4, 5])\n"
      ],
      "metadata": {
        "id": "p4ACuYSUWd3U"
      }
    },
    {
      "cell_type": "code",
      "source": [
        "import numpy as np\n",
        "a = np.array([1,2,3,6,4,5])\n",
        "result = np.flip(a)\n",
        "print(result)"
      ],
      "metadata": {
        "colab": {
          "base_uri": "https://localhost:8080/"
        },
        "id": "n5IkLv9mWfIl",
        "outputId": "018c5332-5e4e-415a-db30-a4bc38b5339e"
      },
      "execution_count": null,
      "outputs": [
        {
          "output_type": "stream",
          "name": "stdout",
          "text": [
            "[5 4 6 3 2 1]\n"
          ]
        }
      ]
    },
    {
      "cell_type": "markdown",
      "source": [
        "b) Find the most frequent value and their indice(s) in the following arrays:\n",
        "i) x = np.array([1,2,3,4,5,1,2,1,1,1])\n"
      ],
      "metadata": {
        "id": "4bwYZPY6Jbl-"
      }
    },
    {
      "cell_type": "code",
      "source": [
        "x = np.array([1,2,3,4,5,1,2,1,1,1])\n",
        "mostFreq = np.bincount(x).argmax()\n",
        "print(\"The most frequent value: \",mostFreq)\n",
        "print(\"The indices of most frequent value: \",np.where(x==mostFreq)[0])"
      ],
      "metadata": {
        "colab": {
          "base_uri": "https://localhost:8080/"
        },
        "id": "SNmX607TXWWU",
        "outputId": "16996e74-72b0-4cd4-8a1e-d738c1d15d9c"
      },
      "execution_count": null,
      "outputs": [
        {
          "output_type": "stream",
          "name": "stdout",
          "text": [
            "The most frequent value:  1\n",
            "The indices of most frequent value:  [0 5 7 8 9]\n"
          ]
        }
      ]
    },
    {
      "cell_type": "markdown",
      "source": [
        "b)ii)  y = np.array([1, 1, 1, 2, 3, 4, 2, 4, 3, 3, ])"
      ],
      "metadata": {
        "id": "g94UziDRJhJl"
      }
    },
    {
      "cell_type": "code",
      "source": [
        "y = np.array([1, 1, 1, 2, 3, 4, 2, 4, 3, 3, ])\n",
        "mostFreq=np.bincount(y).argmax()\n",
        "print(\"The most frequent value: \",mostFreq)\n",
        "print(\"The indices of most frequent value: \",np.where(y==mostFreq)[0])"
      ],
      "metadata": {
        "colab": {
          "base_uri": "https://localhost:8080/"
        },
        "id": "ctCKSzwAbg9p",
        "outputId": "92bfbfd7-f835-4fdd-98f2-ea3a92b2e326"
      },
      "execution_count": null,
      "outputs": [
        {
          "output_type": "stream",
          "name": "stdout",
          "text": [
            "The most frequent value:  1\n",
            "The indices of most frequent value:  [0 1 2]\n"
          ]
        }
      ]
    },
    {
      "cell_type": "markdown",
      "source": [
        "**Q.3** For the given 2-D array arr=np.array([10, 20, 30], [40, 50, 60], [70, 80, 90]), access\n",
        "elements using row and column indices as follows:\n",
        "a) Access 1st row, 2nd column\n",
        "b) Access 3rd row, 1st column"
      ],
      "metadata": {
        "id": "81oPNpLxcGFA"
      }
    },
    {
      "cell_type": "code",
      "source": [
        "arr=np.array([[10, 20, 30], [40, 50, 60], [70, 80, 90]])\n",
        "print(arr[0][1])\n",
        "print(arr[2][0])"
      ],
      "metadata": {
        "colab": {
          "base_uri": "https://localhost:8080/"
        },
        "id": "-A_6ha_KcHYX",
        "outputId": "b89523fa-61a1-406a-d3b8-3ec750c005e6"
      },
      "execution_count": null,
      "outputs": [
        {
          "output_type": "stream",
          "name": "stdout",
          "text": [
            "20\n",
            "70\n"
          ]
        }
      ]
    },
    {
      "cell_type": "markdown",
      "source": [
        "**Q.4** Write program to create an 1-D NumPy array named <<Your Name>> with evenly\n",
        "spaced 25 numbers from 10 to 100 using linspace(). Print the dimensions of the array,\n",
        "shape, total elements, the data type of each element and total number of bytes consumed\n",
        "by the array. Find the transpose of this array using reshape() attribute. Can we do the same\n",
        "with T attribute?"
      ],
      "metadata": {
        "id": "gQ96YLocfXCO"
      }
    },
    {
      "cell_type": "code",
      "source": [
        "import numpy as np\n",
        "rashika = np.linspace(10,100,25)\n",
        "print(rashika)\n",
        "print(\"The dimension of array: \",rashika.ndim)\n",
        "print(\"Shape of array: \",rashika.shape)\n",
        "print(\"Size of array: \",rashika.size)\n",
        "print(\"DataType: \",rashika.dtype)\n",
        "print(\"Total number of bytes consumed by the array: \",rashika.nbytes)\n",
        "\n",
        "transpose = rashika.reshape(-1,1)\n",
        "print(transpose)\n",
        "\n",
        "rT = rashika.T\n",
        "print(rT)\n",
        "#cannot do the same with T attribute"
      ],
      "metadata": {
        "colab": {
          "base_uri": "https://localhost:8080/"
        },
        "id": "pd0zq3H_fYUl",
        "outputId": "6923ca04-d90c-4ca8-ee32-6d042fa2ff66"
      },
      "execution_count": 9,
      "outputs": [
        {
          "output_type": "stream",
          "name": "stdout",
          "text": [
            "[ 10.    13.75  17.5   21.25  25.    28.75  32.5   36.25  40.    43.75\n",
            "  47.5   51.25  55.    58.75  62.5   66.25  70.    73.75  77.5   81.25\n",
            "  85.    88.75  92.5   96.25 100.  ]\n",
            "The dimension of array:  1\n",
            "Shape of array:  (25,)\n",
            "Size of array:  25\n",
            "DataType:  float64\n",
            "Total number of bytes consumed by the array:  200\n",
            "[[ 10.  ]\n",
            " [ 13.75]\n",
            " [ 17.5 ]\n",
            " [ 21.25]\n",
            " [ 25.  ]\n",
            " [ 28.75]\n",
            " [ 32.5 ]\n",
            " [ 36.25]\n",
            " [ 40.  ]\n",
            " [ 43.75]\n",
            " [ 47.5 ]\n",
            " [ 51.25]\n",
            " [ 55.  ]\n",
            " [ 58.75]\n",
            " [ 62.5 ]\n",
            " [ 66.25]\n",
            " [ 70.  ]\n",
            " [ 73.75]\n",
            " [ 77.5 ]\n",
            " [ 81.25]\n",
            " [ 85.  ]\n",
            " [ 88.75]\n",
            " [ 92.5 ]\n",
            " [ 96.25]\n",
            " [100.  ]]\n",
            "[ 10.    13.75  17.5   21.25  25.    28.75  32.5   36.25  40.    43.75\n",
            "  47.5   51.25  55.    58.75  62.5   66.25  70.    73.75  77.5   81.25\n",
            "  85.    88.75  92.5   96.25 100.  ]\n"
          ]
        }
      ]
    },
    {
      "cell_type": "markdown",
      "source": [
        "**Q.5** Create a 2-D Array of three rows and four columns, named ucs420_<yourname>>\n",
        "with following values – 10, 20, 30, 40, 50, 60, 70, 80, 90, 15, 20, 35. Compute the mean,\n",
        "median, max, min, unique elements. Reshape the array to four rows and three columns and\n",
        "name it as reshaped_ ucs420_<your_name>>. Resize the array to two rows and three\n",
        "columns and name it as resized_ ucs420_<your_name>>."
      ],
      "metadata": {
        "id": "dlGRVxfFkh3i"
      }
    },
    {
      "cell_type": "code",
      "source": [
        "import numpy as np\n",
        "ucs420_Rashika = np.array([[10,20,30,40], [50,60,70,80], [90,15,20,35]])\n",
        "print(\"The mean: \", np.mean(ucs420_Rashika))\n",
        "print(\"The median: \",np.median(ucs420_Rashika))\n",
        "print(\"The max: \",ucs420_Rashika.max())\n",
        "print(\"The min: \", ucs420_Rashika.min())\n",
        "print(\"The unique elements: \", np.unique(ucs420_Rashika))\n",
        "\n",
        "reshaped_ucs420_Rashika = ucs420_Rashika.reshape(4,3)\n",
        "print(\"The reshaped array: \")\n",
        "print(reshaped_ucs420_Rashika)\n",
        "\n",
        "resized_ucs420_Rashika = np.resize(ucs420_Rashika,(2,3))\n",
        "print(\"The resized array: \")\n",
        "print(resized_ucs420_Rashika)"
      ],
      "metadata": {
        "id": "bkXT8kdBkjJJ",
        "colab": {
          "base_uri": "https://localhost:8080/"
        },
        "outputId": "68fed765-b647-402b-dc2f-f1340132160b"
      },
      "execution_count": 8,
      "outputs": [
        {
          "output_type": "stream",
          "name": "stdout",
          "text": [
            "The mean:  43.333333333333336\n",
            "The median:  37.5\n",
            "The max:  90\n",
            "The min:  10\n",
            "The unique elements:  [10 15 20 30 35 40 50 60 70 80 90]\n",
            "The reshaped array: \n",
            "[[10 20 30]\n",
            " [40 50 60]\n",
            " [70 80 90]\n",
            " [15 20 35]]\n",
            "The resized array: \n",
            "[[10 20 30]\n",
            " [40 50 60]]\n"
          ]
        }
      ]
    }
  ]
}