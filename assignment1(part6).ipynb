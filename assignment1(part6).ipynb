{
  "nbformat": 4,
  "nbformat_minor": 0,
  "metadata": {
    "colab": {
      "provenance": [],
      "authorship_tag": "ABX9TyP3LIJI1RjbvpYHmMpFTwYE",
      "include_colab_link": true
    },
    "kernelspec": {
      "name": "python3",
      "display_name": "Python 3"
    },
    "language_info": {
      "name": "python"
    }
  },
  "cells": [
    {
      "cell_type": "markdown",
      "metadata": {
        "id": "view-in-github",
        "colab_type": "text"
      },
      "source": [
        "<a href=\"https://colab.research.google.com/github/RashikaTyagi01/Rashika-UCS420/blob/main/assignment1(part6).ipynb\" target=\"_parent\"><img src=\"https://colab.research.google.com/assets/colab-badge.svg\" alt=\"Open In Colab\"/></a>"
      ]
    },
    {
      "cell_type": "markdown",
      "source": [
        "Assingment 6.1: WAP using function that add all odd numbers from 1 to n, n is given by the user.\n",
        "\n"
      ],
      "metadata": {
        "id": "1j0tXcAqzlNW"
      }
    },
    {
      "cell_type": "code",
      "execution_count": 1,
      "metadata": {
        "colab": {
          "base_uri": "https://localhost:8080/"
        },
        "id": "Ix5KA2BMzjZj",
        "outputId": "d49185f7-492c-44a4-c6b4-0913ac550f59"
      },
      "outputs": [
        {
          "output_type": "stream",
          "name": "stdout",
          "text": [
            "enter a number: 5\n",
            "The sum of odd numbers is:  9\n"
          ]
        }
      ],
      "source": [
        "def oddSum(n):\n",
        "  sum=0\n",
        "  for i in range(1,n+1):\n",
        "    if i%2!=0:\n",
        "      sum+=i\n",
        "  return sum\n",
        "\n",
        "n=int(input(\"enter a number: \"))\n",
        "print(\"The sum of odd numbers is: \",oddSum(n))"
      ]
    },
    {
      "cell_type": "markdown",
      "source": [
        "Assingment 6.2: WAP using function that add all prime numbers from 1 to n, n given by the user."
      ],
      "metadata": {
        "id": "h9GDZ7Nl0T9v"
      }
    },
    {
      "cell_type": "code",
      "source": [
        "def primeSum(n):\n",
        "  sum=0\n",
        "  for i in range(2,n+1):\n",
        "    flag=1\n",
        "    for j in range(2,i):\n",
        "      if i%j==0:\n",
        "        flag=0\n",
        "    if flag==1:\n",
        "      sum+=i\n",
        "  return sum\n",
        "\n",
        "n=int(input(\"enter a number: \"))\n",
        "print('The sum of prime numbers: ',primeSum(n))"
      ],
      "metadata": {
        "colab": {
          "base_uri": "https://localhost:8080/"
        },
        "id": "7ThGSOLp0W3G",
        "outputId": "20501405-5ec3-484e-c13c-443ad7196e76"
      },
      "execution_count": 3,
      "outputs": [
        {
          "output_type": "stream",
          "name": "stdout",
          "text": [
            "enter a number: 6\n",
            "The sum of prime numbers:  10\n"
          ]
        }
      ]
    }
  ]
}