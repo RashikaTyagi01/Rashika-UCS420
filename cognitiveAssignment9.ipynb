{
  "nbformat": 4,
  "nbformat_minor": 0,
  "metadata": {
    "colab": {
      "provenance": [],
      "authorship_tag": "ABX9TyNOvBfgA9mX9I9QzjXbZEQR",
      "include_colab_link": true
    },
    "kernelspec": {
      "name": "python3",
      "display_name": "Python 3"
    },
    "language_info": {
      "name": "python"
    }
  },
  "cells": [
    {
      "cell_type": "markdown",
      "metadata": {
        "id": "view-in-github",
        "colab_type": "text"
      },
      "source": [
        "<a href=\"https://colab.research.google.com/github/RashikaTyagi01/Rashika-UCS420/blob/main/cognitiveAssignment9.ipynb\" target=\"_parent\"><img src=\"https://colab.research.google.com/assets/colab-badge.svg\" alt=\"Open In Colab\"/></a>"
      ]
    },
    {
      "cell_type": "markdown",
      "source": [
        "Q1. Write a unique paragraph (5-6 sentences) about your favorite topic (e.g., sports,\n",
        "technology, food, books, etc.).\n",
        "1. Convert text to lowercase and remove punctuaƟon.\n",
        "2. Tokenize the text into words and sentences.\n",
        "3. Remove stopwords (using NLTK's stopwords list).\n",
        "4. Display word frequency distribuƟon (excluding stopwords)."
      ],
      "metadata": {
        "id": "33D1BL9Ma0VU"
      }
    },
    {
      "cell_type": "code",
      "execution_count": 9,
      "metadata": {
        "colab": {
          "base_uri": "https://localhost:8080/"
        },
        "id": "0pguGCXm223M",
        "outputId": "df7c71fa-2037-4902-f9a0-3cf1cc1cfdf4"
      },
      "outputs": [
        {
          "output_type": "stream",
          "name": "stdout",
          "text": [
            "['\\nBooks have always been a gateway to new worlds, offering an escape from the everyday and providing a space for deep reflection.', \"Whether it's fiction or non-fiction, the written word has a way of drawing readers into its pages, sparking imagination and offering new perspectives.\", 'Reading allows people to experience other cultures, ideas, and emotions, fostering empathy and understanding.', 'In an age dominated by technology, books still hold a special place, providing a break from the digital noise.', 'The power of storytelling in books is timeless, and their impact on society is undeniable.']\n",
            "\n",
            "\n",
            "books have always been a gateway to new worlds offering an escape from the everyday and providing a space for deep reflection\n",
            "whether its fiction or nonfiction the written word has a way of drawing readers into its pages sparking imagination and offering new perspectives\n",
            "reading allows people to experience other cultures ideas and emotions fostering empathy and understanding\n",
            "in an age dominated by technology books still hold a special place providing a break from the digital noise\n",
            "the power of storytelling in books is timeless and their impact on society is undeniable\n",
            "\n",
            "['books', 'have', 'always', 'been', 'a', 'gateway', 'to', 'new', 'worlds', 'offering', 'an', 'escape', 'from', 'the', 'everyday', 'and', 'providing', 'a', 'space', 'for', 'deep', 'reflection', 'whether', 'its', 'fiction', 'or', 'nonfiction', 'the', 'written', 'word', 'has', 'a', 'way', 'of', 'drawing', 'readers', 'into', 'its', 'pages', 'sparking', 'imagination', 'and', 'offering', 'new', 'perspectives', 'reading', 'allows', 'people', 'to', 'experience', 'other', 'cultures', 'ideas', 'and', 'emotions', 'fostering', 'empathy', 'and', 'understanding', 'in', 'an', 'age', 'dominated', 'by', 'technology', 'books', 'still', 'hold', 'a', 'special', 'place', 'providing', 'a', 'break', 'from', 'the', 'digital', 'noise', 'the', 'power', 'of', 'storytelling', 'in', 'books', 'is', 'timeless', 'and', 'their', 'impact', 'on', 'society', 'is', 'undeniable']\n",
            "\n",
            "['\\nbooks have always been a gateway to new worlds offering an escape from the everyday and providing a space for deep reflection\\nwhether its fiction or nonfiction the written word has a way of drawing readers into its pages sparking imagination and offering new perspectives\\nreading allows people to experience other cultures ideas and emotions fostering empathy and understanding\\nin an age dominated by technology books still hold a special place providing a break from the digital noise\\nthe power of storytelling in books is timeless and their impact on society is undeniable']\n",
            "\n",
            "Word Frequency Distribution: \n",
            "books: 3\n",
            "always: 1\n",
            "gateway: 1\n",
            "new: 2\n",
            "worlds: 1\n",
            "offering: 2\n",
            "escape: 1\n",
            "everyday: 1\n",
            "providing: 2\n",
            "space: 1\n",
            "deep: 1\n",
            "reflection: 1\n",
            "whether: 1\n",
            "fiction: 1\n",
            "nonfiction: 1\n",
            "written: 1\n",
            "word: 1\n",
            "way: 1\n",
            "drawing: 1\n",
            "readers: 1\n",
            "pages: 1\n",
            "sparking: 1\n",
            "imagination: 1\n",
            "perspectives: 1\n",
            "reading: 1\n",
            "allows: 1\n",
            "people: 1\n",
            "experience: 1\n",
            "cultures: 1\n",
            "ideas: 1\n",
            "emotions: 1\n",
            "fostering: 1\n",
            "empathy: 1\n",
            "understanding: 1\n",
            "age: 1\n",
            "dominated: 1\n",
            "technology: 1\n",
            "still: 1\n",
            "hold: 1\n",
            "special: 1\n",
            "place: 1\n",
            "break: 1\n",
            "digital: 1\n",
            "noise: 1\n",
            "power: 1\n",
            "storytelling: 1\n",
            "timeless: 1\n",
            "impact: 1\n",
            "society: 1\n",
            "undeniable: 1\n"
          ]
        },
        {
          "output_type": "stream",
          "name": "stderr",
          "text": [
            "[nltk_data] Downloading package punkt_tab to /root/nltk_data...\n",
            "[nltk_data]   Package punkt_tab is already up-to-date!\n",
            "[nltk_data] Downloading package stopwords to /root/nltk_data...\n",
            "[nltk_data]   Package stopwords is already up-to-date!\n"
          ]
        }
      ],
      "source": [
        "import string\n",
        "import nltk\n",
        "from nltk.tokenize import word_tokenize, sent_tokenize\n",
        "from nltk.corpus import stopwords\n",
        "from collections import Counter\n",
        "\n",
        "nltk.download('punkt_tab')\n",
        "nltk.download('stopwords')\n",
        "\n",
        "text = \"\"\"\n",
        "Books have always been a gateway to new worlds, offering an escape from the everyday and providing a space for deep reflection.\n",
        "Whether it's fiction or non-fiction, the written word has a way of drawing readers into its pages, sparking imagination and offering new perspectives.\n",
        "Reading allows people to experience other cultures, ideas, and emotions, fostering empathy and understanding.\n",
        "In an age dominated by technology, books still hold a special place, providing a break from the digital noise.\n",
        "The power of storytelling in books is timeless, and their impact on society is undeniable.\n",
        "\"\"\"\n",
        "\n",
        "#sentence tokenization before removing punctuation\n",
        "sentences = sent_tokenize(text)\n",
        "print(sentences)\n",
        "print()\n",
        "\n",
        "lowered_text = text.lower()\n",
        "text = ''.join([char for char in lowered_text if char not in string.punctuation])\n",
        "print(text)\n",
        "\n",
        "words = word_tokenize(text)\n",
        "print(words)\n",
        "print()\n",
        "\n",
        "sentences = sent_tokenize(text)\n",
        "print(sentences)\n",
        "print()\n",
        "\n",
        "stop_words = set(stopwords.words(\"english\"))\n",
        "filtered_words = [word for word in words if word not in stop_words]\n",
        "word_freq = Counter(filtered_words)\n",
        "print(\"Word Frequency Distribution: \")\n",
        "for word, freq in word_freq.items():\n",
        "  print(f\"{word}: {freq}\")\n"
      ]
    },
    {
      "cell_type": "markdown",
      "source": [
        "Q2. Stemming and LemmaƟzaƟon\n",
        "1. Take the tokenized words from QuesƟon 1 (aŌer stopword removal).\n",
        "2. Apply stemming using NLTK's PorterStemmer and LancasterStemmer.\n",
        "3. Apply lemmaƟzaƟon using NLTK's WordNetLemmaƟzer.\n",
        "4. Compare and display results of both techniques."
      ],
      "metadata": {
        "id": "ukcmRkQD_3tK"
      }
    },
    {
      "cell_type": "code",
      "source": [
        "from nltk.stem import PorterStemmer, LancasterStemmer\n",
        "from nltk.stem import WordNetLemmatizer\n",
        "nltk.download('wordnet')\n",
        "ps = PorterStemmer()\n",
        "ls = LancasterStemmer()\n",
        "for w in filtered_words:\n",
        "  print(w,\":\",ps.stem(w),\",\", ls.stem(w))\n",
        "\n",
        "print()\n",
        "\n",
        "lemmatizer=WordNetLemmatizer()\n",
        "for w in filtered_words:\n",
        "  print(w,\":\",lemmatizer.lemmatize(w))\n",
        "\n"
      ],
      "metadata": {
        "colab": {
          "base_uri": "https://localhost:8080/"
        },
        "id": "6e70VNj3_pJT",
        "outputId": "d8efbf2e-59b3-4e81-cad2-38d6e2657ab7"
      },
      "execution_count": 16,
      "outputs": [
        {
          "output_type": "stream",
          "name": "stdout",
          "text": [
            "books : book , book\n",
            "always : alway , alway\n",
            "gateway : gateway , gateway\n",
            "new : new , new\n",
            "worlds : world , world\n",
            "offering : offer , off\n",
            "escape : escap , escap\n",
            "everyday : everyday , everyday\n",
            "providing : provid , provid\n",
            "space : space , spac\n",
            "deep : deep , deep\n",
            "reflection : reflect , reflect\n",
            "whether : whether , wheth\n",
            "fiction : fiction , fict\n",
            "nonfiction : nonfict , nonfict\n",
            "written : written , writ\n",
            "word : word , word\n",
            "way : way , way\n",
            "drawing : draw , draw\n",
            "readers : reader , read\n",
            "pages : page , pag\n",
            "sparking : spark , spark\n",
            "imagination : imagin , imagin\n",
            "offering : offer , off\n",
            "new : new , new\n",
            "perspectives : perspect , perspect\n",
            "reading : read , read\n",
            "allows : allow , allow\n",
            "people : peopl , peopl\n",
            "experience : experi , expery\n",
            "cultures : cultur , cult\n",
            "ideas : idea , idea\n",
            "emotions : emot , emot\n",
            "fostering : foster , fost\n",
            "empathy : empathi , empathy\n",
            "understanding : understand , understand\n",
            "age : age , ag\n",
            "dominated : domin , domin\n",
            "technology : technolog , technolog\n",
            "books : book , book\n",
            "still : still , stil\n",
            "hold : hold , hold\n",
            "special : special , spec\n",
            "place : place , plac\n",
            "providing : provid , provid\n",
            "break : break , break\n",
            "digital : digit , digit\n",
            "noise : nois , nois\n",
            "power : power , pow\n",
            "storytelling : storytel , storytel\n",
            "books : book , book\n",
            "timeless : timeless , timeless\n",
            "impact : impact , impact\n",
            "society : societi , socy\n",
            "undeniable : undeni , undeny\n",
            "\n",
            "books : book\n",
            "always : always\n",
            "gateway : gateway\n",
            "new : new\n",
            "worlds : world\n",
            "offering : offering\n",
            "escape : escape\n",
            "everyday : everyday\n",
            "providing : providing\n",
            "space : space\n",
            "deep : deep\n",
            "reflection : reflection\n",
            "whether : whether\n",
            "fiction : fiction\n",
            "nonfiction : nonfiction\n",
            "written : written\n",
            "word : word\n",
            "way : way\n",
            "drawing : drawing\n",
            "readers : reader\n",
            "pages : page\n",
            "sparking : sparking\n",
            "imagination : imagination\n",
            "offering : offering\n",
            "new : new\n",
            "perspectives : perspective\n",
            "reading : reading\n",
            "allows : allows\n",
            "people : people\n",
            "experience : experience\n",
            "cultures : culture\n",
            "ideas : idea\n",
            "emotions : emotion\n",
            "fostering : fostering\n",
            "empathy : empathy\n",
            "understanding : understanding\n",
            "age : age\n",
            "dominated : dominated\n",
            "technology : technology\n",
            "books : book\n",
            "still : still\n",
            "hold : hold\n",
            "special : special\n",
            "place : place\n",
            "providing : providing\n",
            "break : break\n",
            "digital : digital\n",
            "noise : noise\n",
            "power : power\n",
            "storytelling : storytelling\n",
            "books : book\n",
            "timeless : timeless\n",
            "impact : impact\n",
            "society : society\n",
            "undeniable : undeniable\n"
          ]
        },
        {
          "output_type": "stream",
          "name": "stderr",
          "text": [
            "[nltk_data] Downloading package wordnet to /root/nltk_data...\n",
            "[nltk_data]   Package wordnet is already up-to-date!\n"
          ]
        }
      ]
    },
    {
      "cell_type": "markdown",
      "source": [
        "Q3. Regular Expressions and Text Spliƫng\n",
        "1. Take their original text from QuesƟon 1.\n",
        "2. Use regular expressions to:\n",
        "a. Extract all words with more than 5 leƩers.\n",
        "b. Extract all numbers (if any exist in their text).\n",
        "c. Extract all capitalized words.\n",
        "3. Use text spliƫng techniques to:\n",
        "a. Split the text into words containing only alphabets (removing digits and special\n",
        "characters).\n",
        "b. Extract words starƟng with a vowel."
      ],
      "metadata": {
        "id": "Gvct6zYyci-7"
      }
    },
    {
      "cell_type": "code",
      "source": [
        "import re\n",
        "\n",
        "text = \"\"\"\n",
        "Books have always been a gateway to new worlds, offering an escape from the everyday and providing a space for deep reflection.\n",
        "Whether it's fiction or non-fiction, the written word has a way of drawing readers into its pages, sparking imagination and offering new perspectives.\n",
        "Reading allows people to experience other cultures, ideas, and emotions, fostering empathy and understanding.\n",
        "In an age dominated by technology, books still hold a special place, providing a break from the digital noise.\n",
        "The power of storytelling in books is timeless, and their impact on society is undeniable.\n",
        "\"\"\"\n",
        "\n",
        "#2(a)\n",
        "words = re.findall(r'\\b\\w{6,}\\b',text)\n",
        "print(words)\n",
        "\n",
        "#(b)\n",
        "numbers=re.findall(r'\\d+(?:\\.\\d+)?',text)\n",
        "print(numbers)\n",
        "\n",
        "#(c)\n",
        "capitalized=re.findall(r'\\b[A-Z][a-z]*\\b',text)\n",
        "print(capitals)\n",
        "\n",
        "#3(a)\n",
        "alphabets_words = re.findall(r'\\b[a-zA-Z]+\\b', text)\n",
        "print(\"words containing only alphabets: \",alphabets_words)\n",
        "print()\n",
        "#(b)\n",
        "vowel_words = [word for word in alphabets_words if word[0].lower() in 'aeiou']\n",
        "print(\"words starting with a vowel: \",vowel_words)"
      ],
      "metadata": {
        "colab": {
          "base_uri": "https://localhost:8080/"
        },
        "id": "3KmfZ1XqhVPW",
        "outputId": "4e855782-eeea-4698-f412-3b40735e298d"
      },
      "execution_count": 24,
      "outputs": [
        {
          "output_type": "stream",
          "name": "stdout",
          "text": [
            "['always', 'gateway', 'worlds', 'offering', 'escape', 'everyday', 'providing', 'reflection', 'Whether', 'fiction', 'fiction', 'written', 'drawing', 'readers', 'sparking', 'imagination', 'offering', 'perspectives', 'Reading', 'allows', 'people', 'experience', 'cultures', 'emotions', 'fostering', 'empathy', 'understanding', 'dominated', 'technology', 'special', 'providing', 'digital', 'storytelling', 'timeless', 'impact', 'society', 'undeniable']\n",
            "[]\n",
            "['Books', 'Whether', 'Reading', 'In', 'The']\n",
            "words containing only alphabets:  ['Books', 'have', 'always', 'been', 'a', 'gateway', 'to', 'new', 'worlds', 'offering', 'an', 'escape', 'from', 'the', 'everyday', 'and', 'providing', 'a', 'space', 'for', 'deep', 'reflection', 'Whether', 'it', 's', 'fiction', 'or', 'non', 'fiction', 'the', 'written', 'word', 'has', 'a', 'way', 'of', 'drawing', 'readers', 'into', 'its', 'pages', 'sparking', 'imagination', 'and', 'offering', 'new', 'perspectives', 'Reading', 'allows', 'people', 'to', 'experience', 'other', 'cultures', 'ideas', 'and', 'emotions', 'fostering', 'empathy', 'and', 'understanding', 'In', 'an', 'age', 'dominated', 'by', 'technology', 'books', 'still', 'hold', 'a', 'special', 'place', 'providing', 'a', 'break', 'from', 'the', 'digital', 'noise', 'The', 'power', 'of', 'storytelling', 'in', 'books', 'is', 'timeless', 'and', 'their', 'impact', 'on', 'society', 'is', 'undeniable']\n",
            "\n",
            "words starting with a vowel:  ['always', 'a', 'offering', 'an', 'escape', 'everyday', 'and', 'a', 'it', 'or', 'a', 'of', 'into', 'its', 'imagination', 'and', 'offering', 'allows', 'experience', 'other', 'ideas', 'and', 'emotions', 'empathy', 'and', 'understanding', 'In', 'an', 'age', 'a', 'a', 'of', 'in', 'is', 'and', 'impact', 'on', 'is', 'undeniable']\n"
          ]
        }
      ]
    },
    {
      "cell_type": "markdown",
      "source": [
        "Q4. Custom TokenizaƟon & Regex-based Text Cleaning\n",
        "1. Take original text from QuesƟon 1.\n",
        "2. Write a custom tokenizaƟon funcƟon that:\n",
        "a. Removes punctuaƟon and special symbols, but keeps contracƟons (e.g.,\n",
        "\"isn't\" should not be split into \"is\" and \"n't\").\n",
        "b. Handles hyphenated words as a single token (e.g., \"state-of-the-art\" remains\n",
        "a single token).\n",
        "c. Tokenizes numbers separately but keeps decimal numbers intact (e.g., \"3.14\"\n",
        "should remain as is).\n",
        "\n",
        "3. Use Regex SubsƟtuƟons (re.sub) to:\n",
        "a. Replace email addresses with '<EMAIL>' placeholder.\n",
        "b. Replace URLs with '<URL>' placeholder.\n",
        "c. Replace phone numbers (formats: 123-456-7890 or +91 9876543210) with\n",
        "'<PHONE>' placeholder."
      ],
      "metadata": {
        "id": "PbNV1AWtcpRm"
      }
    },
    {
      "cell_type": "code",
      "source": [
        "import re\n",
        "\n",
        "text = \"\"\"\n",
        "Books have always been a gateway to new worlds, offering an escape from the everyday and providing a space for deep reflection.\n",
        "Whether it's fiction or non-fiction, the written word has a way of drawing readers into its pages, sparking imagination and offering new perspectives.\n",
        "Reading allows people to experience other cultures, ideas, and emotions, fostering empathy and understanding.\n",
        "In an age dominated by technology, books still hold a special place, providing a break from the digital noise.\n",
        "The power of storytelling in books is timeless, and their impact on society is undeniable.\n",
        "\"\"\"\n",
        "#2\n",
        "def custom_tokenize(text):\n",
        "  text = re.sub(r'([^\\w\\s\\-\\.\\'])', '', text)\n",
        "  text = re.sub(r'(\\w+-\\w+)', r'\\1', text)\n",
        "  tokens = re.findall(r'\\b\\w+\\.\\w+|\\b\\w+\\b', text)\n",
        "  return tokens\n",
        "\n",
        "tokens = custom_tokenize(text)\n",
        "print(tokens)\n",
        "print()\n",
        "\n",
        "#3\n",
        "text1 = \"\"\"Contact me at support@example.com or visit website https://www.example.com.\n",
        "You can also reach out to john.doe@mail.co.in or http://info.test-site.org.\n",
        "Call us at 123-456-7890 or +91 9876543210 \"\"\"\n",
        "\n",
        "text = re.sub(r'\\b[\\w\\.-]+@[\\w\\.-]+\\.\\w+\\b', '<EMAIL>', text1)\n",
        "text = re.sub(r'https?://[^\\s]+', '<URL>', text)\n",
        "text = re.sub(r'(\\+91\\s\\d{10})|(\\d{3}-\\d{3}-\\d{4})', '<PHONE>', text)\n",
        "print(text)\n"
      ],
      "metadata": {
        "colab": {
          "base_uri": "https://localhost:8080/"
        },
        "id": "RNL-cfrflj-N",
        "outputId": "4c3fa14d-294a-4dc7-ea4d-609093b8abcb"
      },
      "execution_count": 36,
      "outputs": [
        {
          "output_type": "stream",
          "name": "stdout",
          "text": [
            "['Books', 'have', 'always', 'been', 'a', 'gateway', 'to', 'new', 'worlds', 'offering', 'an', 'escape', 'from', 'the', 'everyday', 'and', 'providing', 'a', 'space', 'for', 'deep', 'reflection', 'Whether', 'it', 's', 'fiction', 'or', 'non', 'fiction', 'the', 'written', 'word', 'has', 'a', 'way', 'of', 'drawing', 'readers', 'into', 'its', 'pages', 'sparking', 'imagination', 'and', 'offering', 'new', 'perspectives', 'Reading', 'allows', 'people', 'to', 'experience', 'other', 'cultures', 'ideas', 'and', 'emotions', 'fostering', 'empathy', 'and', 'understanding', 'In', 'an', 'age', 'dominated', 'by', 'technology', 'books', 'still', 'hold', 'a', 'special', 'place', 'providing', 'a', 'break', 'from', 'the', 'digital', 'noise', 'The', 'power', 'of', 'storytelling', 'in', 'books', 'is', 'timeless', 'and', 'their', 'impact', 'on', 'society', 'is', 'undeniable']\n",
            "\n",
            "Contact me at <EMAIL> or visit website <URL>\n",
            "You can also reach out to <EMAIL> or <URL>\n",
            "Call us at <PHONE> or <PHONE> \n"
          ]
        }
      ]
    }
  ]
}