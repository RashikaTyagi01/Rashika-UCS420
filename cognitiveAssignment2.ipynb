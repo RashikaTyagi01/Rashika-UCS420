{
  "nbformat": 4,
  "nbformat_minor": 0,
  "metadata": {
    "colab": {
      "provenance": [],
      "authorship_tag": "ABX9TyOX5DRkZ9r0zoywrZ29N05X",
      "include_colab_link": true
    },
    "kernelspec": {
      "name": "python3",
      "display_name": "Python 3"
    },
    "language_info": {
      "name": "python"
    }
  },
  "cells": [
    {
      "cell_type": "markdown",
      "metadata": {
        "id": "view-in-github",
        "colab_type": "text"
      },
      "source": [
        "<a href=\"https://colab.research.google.com/github/RashikaTyagi01/Rashika-UCS420/blob/main/cognitiveAssignment2.ipynb\" target=\"_parent\"><img src=\"https://colab.research.google.com/assets/colab-badge.svg\" alt=\"Open In Colab\"/></a>"
      ]
    },
    {
      "cell_type": "markdown",
      "source": [
        "**Q1. Create a List L that is defined as**= [10, 20, 30, 40, 50, 60, 70, 80].\n",
        "i. WAP to add 200 and 300 to L.\n",
        "ii. WAP to remove 10 and 30 from L.\n",
        "iii. WAP to sort L in ascending order.\n",
        "iv. WAP to sort L in descending order."
      ],
      "metadata": {
        "id": "cUCGrZ7hF7jS"
      }
    },
    {
      "cell_type": "code",
      "source": [
        "L=[10,20,30,40,50,60,70,80]\n",
        "#add 200 and 300\n",
        "L.append(200)\n",
        "L.append(300)\n",
        "print(L)\n",
        "\n",
        "#remove 10 and 30\n",
        "L.remove(10)\n",
        "L.remove(30)\n",
        "print(L)\n",
        "\n",
        "#sort in ascending order\n",
        "L.sort()\n",
        "print(L)\n",
        "\n",
        "#sort in descending order\n",
        "L.sort(reverse=True)\n",
        "print(L)"
      ],
      "metadata": {
        "colab": {
          "base_uri": "https://localhost:8080/"
        },
        "id": "fgX32LYRE7d8",
        "outputId": "1c0f627b-cb6e-47a8-cbc7-37f073d14be8"
      },
      "execution_count": null,
      "outputs": [
        {
          "output_type": "stream",
          "name": "stdout",
          "text": [
            "[10, 20, 30, 40, 50, 60, 70, 80, 200, 300]\n",
            "[20, 40, 50, 60, 70, 80, 200, 300]\n",
            "[20, 40, 50, 60, 70, 80, 200, 300]\n",
            "[300, 200, 80, 70, 60, 50, 40, 20]\n"
          ]
        }
      ]
    },
    {
      "cell_type": "markdown",
      "source": [
        "**Q2. Create a tuple of marks scored as scores** = (45, 89.5, 76, 45.4, 89, 92, 58, 45) and\n",
        "perform the following operations using tuple functions:\n",
        "i. Identify the highest score and its index in the tuple.\n",
        "ii. Find the lowest score and count how many times it appears.\n",
        "iii. Reverse the tuple and return it as a list.\n",
        "iv. Check if a specific score ‘76’ (input by the user) is present in the tuple and\n",
        "print its first occurrence index, or a message saying it’s not present."
      ],
      "metadata": {
        "id": "DVPh-saeGaXd"
      }
    },
    {
      "cell_type": "code",
      "source": [
        "scores = (45, 89.5, 76, 45.4, 89, 92, 58, 45)\n",
        "#highest score and its index\n",
        "highestScore = max(scores)\n",
        "print(highestScore,\"and index of the highest score is \",scores.index(highestScore))\n",
        "\n",
        "#lowest score and how many times it appears\n",
        "lowestScore = min(scores)\n",
        "print(\"lowest score: \",lowestScore)\n",
        "count=0\n",
        "for i in scores:\n",
        "  if(i==lowestScore):\n",
        "    count+=1\n",
        "print(\"count of the lowest score:\",count)\n",
        "\n",
        "#reverse tuple and return as a list\n",
        "scores_list = list(scores)\n",
        "scores_list.reverse()\n",
        "print(scores_list)\n",
        "print()\n",
        "\n",
        "#check if 76 present\n",
        "n=int(input(\"enter a score: \"))\n",
        "if(n in scores):\n",
        "  print(\"present in tuple at index \",scores.index(n))\n",
        "else:\n",
        "  print(\"not present in tuple\")\n"
      ],
      "metadata": {
        "colab": {
          "base_uri": "https://localhost:8080/"
        },
        "id": "9CSFJ29EGo5C",
        "outputId": "5bab8bc9-ca41-4db7-c1e7-8513f53f50bb"
      },
      "execution_count": 1,
      "outputs": [
        {
          "output_type": "stream",
          "name": "stdout",
          "text": [
            "92 and index of the highest score is  5\n",
            "lowest score:  45\n",
            "count of the lowest score: 2\n",
            "[45, 58, 92, 89, 45.4, 76, 89.5, 45]\n",
            "\n",
            "enter a score: 76\n",
            "present in tuple at index  2\n"
          ]
        }
      ]
    },
    {
      "cell_type": "markdown",
      "source": [
        "Q3. WAP to create a list of 100 random numbers between 100 and 900. Count and print\n",
        "the:\n",
        "i. All odd numbers\n",
        "ii. All even numbers\n",
        "iii. All prime numbers"
      ],
      "metadata": {
        "id": "a_B853lHO13R"
      }
    },
    {
      "cell_type": "code",
      "source": [
        "import random\n",
        "import math\n",
        "mylist=[]\n",
        "for i in range(0,100):\n",
        "  mylist.append(random.randint(100,900))\n",
        "\n",
        "oddNumbers=0;\n",
        "for i in range(0,100):\n",
        "  if(mylist[i]%2!=0):\n",
        "    oddNumbers+=1\n",
        "    print(mylist[i],end=\" \")\n",
        "print(\"\\nnumber of odd numbers: \",oddNumbers)\n",
        "print('\\n')\n",
        "\n",
        "evenNumbers=0\n",
        "for i in range(0,100):\n",
        "  if(mylist[i]%2==0):\n",
        "    evenNumbers+=1\n",
        "    print(mylist[i],end=\" \")\n",
        "print(\"\\nnumber of even numbers: \",evenNumbers)\n",
        "print('\\n')\n",
        "\n",
        "def isPrime(number):\n",
        "  if(number<2):\n",
        "    return False\n",
        "  for i in range(2,int(math.sqrt(number))+1):\n",
        "    if(number%i==0):\n",
        "      return False\n",
        "  return True\n",
        "\n",
        "\n",
        "primes=0\n",
        "for number in mylist:\n",
        "  if isPrime(number):\n",
        "    primes+=1\n",
        "    print(number,end=\" \")\n",
        "print(\"\\nThe number of prime numbers: \",primes)\n"
      ],
      "metadata": {
        "colab": {
          "base_uri": "https://localhost:8080/"
        },
        "id": "cSnYmqzNSAig",
        "outputId": "81f0dd8c-9f96-4b3c-fb1d-59793cb253f7"
      },
      "execution_count": null,
      "outputs": [
        {
          "output_type": "stream",
          "name": "stdout",
          "text": [
            "611 399 799 887 233 541 519 223 219 483 175 445 409 833 775 411 855 771 517 775 361 205 121 323 329 889 169 427 425 785 235 795 639 865 869 769 323 179 781 869 581 405 227 241 305 \n",
            "number of odd numbers:  45\n",
            "\n",
            "\n",
            "514 820 730 382 562 458 866 732 434 278 158 892 850 222 856 900 144 604 564 130 604 818 794 528 838 484 214 242 804 562 812 582 192 646 658 266 318 386 462 538 224 732 190 122 106 806 242 250 146 822 352 464 900 894 898 \n",
            "number of even numbers:  55\n",
            "\n",
            "\n",
            "887 233 541 223 409 769 179 227 241 \n",
            "The number of prime numbers:  9\n"
          ]
        }
      ]
    },
    {
      "cell_type": "markdown",
      "source": [
        "Q4. Consider the following two sets, A and B, representing scores of two teams in multiple\n",
        "matches. A = {34, 56, 78, 90} and B = {78, 45, 90, 23}\n",
        "WAP to perform the following operations using set functions:\n",
        "i. Find the unique scores achieved by both teams (union of sets).\n",
        "ii. Identify the scores that are common to both teams (intersection of sets).\n",
        "iii. Find the scores that are exclusive to each team (symmetric difference).\n",
        "iv. Check if the scores of team A are a subset of team B, and if team B's scores are\n",
        "a superset of team A.\n",
        "v. Remove a specific score X (input by the user) from set A if it exists. If not, print\n",
        "a message saying it is not present."
      ],
      "metadata": {
        "id": "g8VO48m4POvU"
      }
    },
    {
      "cell_type": "code",
      "source": [
        "A = set([34, 56, 78, 90])\n",
        "B = set([78, 45, 90, 23])\n",
        "#union of sets\n",
        "print(A.union(B))\n",
        "\n",
        "#common scores(intersection)\n",
        "print(A.intersection(B))\n",
        "\n",
        "#scores exclusive to both teams(symmetric difference)\n",
        "print(A.symmetric_difference(B))\n",
        "\n",
        "#check for subset and superset\n",
        "print(A.issubset(B))\n",
        "print(B.issuperset(A))\n",
        "\n",
        "#remove X from\n",
        "X=int(input(\"enter a score: \"))\n",
        "if X in A:\n",
        "  A.remove(X)\n",
        "  print(A)\n",
        "else:\n",
        "  print(\"This score is not present\")"
      ],
      "metadata": {
        "colab": {
          "base_uri": "https://localhost:8080/"
        },
        "id": "dHiMwLWsPVNY",
        "outputId": "5f01405d-fc0f-4810-be3a-596df4215d08"
      },
      "execution_count": null,
      "outputs": [
        {
          "output_type": "stream",
          "name": "stdout",
          "text": [
            "{34, 45, 78, 23, 56, 90}\n",
            "{90, 78}\n",
            "{34, 45, 23, 56}\n",
            "False\n",
            "False\n",
            "enter a score: 78\n",
            "{56, 34, 90}\n"
          ]
        }
      ]
    },
    {
      "cell_type": "markdown",
      "source": [
        "Q5. Write a program to rename a key city to a location in the following dictionary."
      ],
      "metadata": {
        "id": "meIXUTNycJJQ"
      }
    },
    {
      "cell_type": "code",
      "source": [
        "sample_dict = {\"name\":\"Kelly\" , \"age\" : 25 , \"salary\":8000 , \"city\" : \"New york\"}\n",
        "sample_dict[\"location\"] = \"New york\"\n",
        "del sample_dict[\"city\"]\n",
        "print(sample_dict)"
      ],
      "metadata": {
        "colab": {
          "base_uri": "https://localhost:8080/"
        },
        "id": "iVxH0tb2cQND",
        "outputId": "ec293361-f5b6-4289-ab13-57c00e404b69"
      },
      "execution_count": null,
      "outputs": [
        {
          "output_type": "stream",
          "name": "stdout",
          "text": [
            "{'name': 'Kelly', 'age': 25, 'salary': 8000, 'location': 'New york'}\n"
          ]
        }
      ]
    }
  ]
}